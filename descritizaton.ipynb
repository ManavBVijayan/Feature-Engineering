{
 "cells": [
  {
   "cell_type": "code",
   "execution_count": 1,
   "id": "0c6cb845-e72c-4a13-b780-eeecdd6daf3f",
   "metadata": {},
   "outputs": [],
   "source": [
    "import numpy as np\n",
    "import matplotlib.pyplot as plt"
   ]
  },
  {
   "cell_type": "code",
   "execution_count": 2,
   "id": "935eea1d-5711-4fa6-ada9-51d64d74fc92",
   "metadata": {},
   "outputs": [],
   "source": [
    "np.random.seed(42)\n",
    "age=np.random.randint(20,60,100)"
   ]
  },
  {
   "cell_type": "code",
   "execution_count": 4,
   "id": "162f1c7d-ca27-479f-be59-9541f0ee1421",
   "metadata": {},
   "outputs": [
    {
     "data": {
      "image/png": "[encoded data removed]",
      "text/plain": [
       "<Figure size 640x480 with 1 Axes>"
      ]
     },
     "metadata": {},
     "output_type": "display_data"
    }
   ],
   "source": [
    "plt.hist(age, bins=20, edgecolor='black')\n",
    "plt.title('Distribution of Ages')\n",
    "plt.xlabel('Age')\n",
    "plt.ylabel('Frequency')\n",
    "plt.show()"
   ]
  },
  {
   "cell_type": "code",
   "execution_count": 9,
   "id": "6e6989d2-febe-44ea-b369-190c8dafc808",
   "metadata": {},
   "outputs": [],
   "source": [
    "bins_edge=[20,35,50,65]\n",
    "ages_bins=np.digitize(age,bins_edge,right=True)\n",
    "bin_labels = ['Young', 'Middle-aged', 'Senior']\n",
    "age_categories = [bin_labels[i - 1] for i in ages_bins]"
   ]
  },
  {
   "cell_type": "code",
   "execution_count": 10,
   "id": "93761513-9473-4a82-8a0c-fdf5d591adb5",
   "metadata": {},
   "outputs": [],
   "source": [
    "data_with_bins = np.column_stack((age, age_categories))"
   ]
  },
  {
   "cell_type": "code",
   "execution_count": 11,
   "id": "fe1c60cd-2f1a-4494-a08c-cf9bd6176068",
   "metadata": {},
   "outputs": [
    {
     "data": {
      "text/plain": [
       "array([['58', 'Senior'],\n",
       "       ['48', 'Middle-aged'],\n",
       "       ['34', 'Young'],\n",
       "       ['27', 'Young'],\n",
       "       ['40', 'Middle-aged'],\n",
       "       ['58', 'Senior'],\n",
       "       ['38', 'Middle-aged'],\n",
       "       ['42', 'Middle-aged'],\n",
       "       ['30', 'Young'],\n",
       "       ['30', 'Young'],\n",
       "       ['43', 'Middle-aged'],\n",
       "       ['55', 'Senior'],\n",
       "       ['59', 'Senior'],\n",
       "       ['43', 'Middle-aged'],\n",
       "       ['22', 'Young'],\n",
       "       ['41', 'Middle-aged'],\n",
       "       ['21', 'Young'],\n",
       "       ['43', 'Middle-aged'],\n",
       "       ['49', 'Middle-aged'],\n",
       "       ['57', 'Senior'],\n",
       "       ['21', 'Young'],\n",
       "       ['40', 'Middle-aged'],\n",
       "       ['52', 'Senior'],\n",
       "       ['31', 'Young'],\n",
       "       ['41', 'Middle-aged'],\n",
       "       ['44', 'Middle-aged'],\n",
       "       ['46', 'Middle-aged'],\n",
       "       ['47', 'Middle-aged'],\n",
       "       ['35', 'Young'],\n",
       "       ['34', 'Young'],\n",
       "       ['22', 'Young'],\n",
       "       ['56', 'Senior'],\n",
       "       ['26', 'Young'],\n",
       "       ['40', 'Middle-aged'],\n",
       "       ['28', 'Young'],\n",
       "       ['58', 'Senior'],\n",
       "       ['37', 'Middle-aged'],\n",
       "       ['23', 'Young'],\n",
       "       ['44', 'Middle-aged'],\n",
       "       ['33', 'Young'],\n",
       "       ['28', 'Young'],\n",
       "       ['45', 'Middle-aged'],\n",
       "       ['21', 'Young'],\n",
       "       ['39', 'Middle-aged'],\n",
       "       ['47', 'Middle-aged'],\n",
       "       ['26', 'Young'],\n",
       "       ['27', 'Young'],\n",
       "       ['54', 'Senior'],\n",
       "       ['33', 'Young'],\n",
       "       ['36', 'Middle-aged'],\n",
       "       ['55', 'Senior'],\n",
       "       ['59', 'Senior'],\n",
       "       ['23', 'Young'],\n",
       "       ['21', 'Young'],\n",
       "       ['25', 'Young'],\n",
       "       ['23', 'Young'],\n",
       "       ['48', 'Middle-aged'],\n",
       "       ['37', 'Middle-aged'],\n",
       "       ['45', 'Middle-aged'],\n",
       "       ['53', 'Senior'],\n",
       "       ['29', 'Young'],\n",
       "       ['55', 'Senior'],\n",
       "       ['33', 'Young'],\n",
       "       ['50', 'Middle-aged'],\n",
       "       ['34', 'Young'],\n",
       "       ['27', 'Young'],\n",
       "       ['33', 'Young'],\n",
       "       ['42', 'Middle-aged'],\n",
       "       ['59', 'Senior'],\n",
       "       ['40', 'Middle-aged'],\n",
       "       ['35', 'Young'],\n",
       "       ['37', 'Middle-aged'],\n",
       "       ['43', 'Middle-aged'],\n",
       "       ['45', 'Middle-aged'],\n",
       "       ['44', 'Middle-aged'],\n",
       "       ['48', 'Middle-aged'],\n",
       "       ['34', 'Young'],\n",
       "       ['20', 'Senior'],\n",
       "       ['44', 'Middle-aged'],\n",
       "       ['26', 'Young'],\n",
       "       ['28', 'Young'],\n",
       "       ['43', 'Middle-aged'],\n",
       "       ['20', 'Senior'],\n",
       "       ['27', 'Young'],\n",
       "       ['43', 'Middle-aged'],\n",
       "       ['30', 'Young'],\n",
       "       ['36', 'Middle-aged'],\n",
       "       ['27', 'Young'],\n",
       "       ['54', 'Senior'],\n",
       "       ['54', 'Senior'],\n",
       "       ['52', 'Senior'],\n",
       "       ['24', 'Young'],\n",
       "       ['58', 'Senior'],\n",
       "       ['47', 'Middle-aged'],\n",
       "       ['26', 'Young'],\n",
       "       ['28', 'Young'],\n",
       "       ['27', 'Young'],\n",
       "       ['31', 'Young'],\n",
       "       ['53', 'Senior'],\n",
       "       ['52', 'Senior']], dtype='<U11')"
      ]
     },
     "execution_count": 11,
     "metadata": {},
     "output_type": "execute_result"
    }
   ],
   "source": [
    "data_with_bins"
   ]
  },
  {
   "cell_type": "code",
   "execution_count": 14,
   "id": "88283d0b-5ec0-4893-a3ac-7963bd7bb977",
   "metadata": {},
   "outputs": [
    {
     "name": "stdout",
     "output_type": "stream",
     "text": [
      "Original Data:\n",
      "[58 48 34 27 40 58 38 42 30 30 43 55 59 43 22 41 21 43 49 57 21 40 52 31\n",
      " 41 44 46 47 35 34 22 56 26 40 28 58 37 23 44 33 28 45 21 39 47 26 27 54\n",
      " 33 36 55 59 23 21 25 23 48 37 45 53 29 55 33 50 34 27 33 42 59 40 35 37\n",
      " 43 45 44 48 34 20 44 26 28 43 20 27 43 30 36 27 54 54 52 24 58 47 26 28\n",
      " 27 31 53 52]\n",
      "\n",
      "Data with Discretized Ages:\n",
      "[['58' 'Senior']\n",
      " ['48' 'Middle-aged']\n",
      " ['34' 'Young']\n",
      " ['27' 'Young']\n",
      " ['40' 'Middle-aged']\n",
      " ['58' 'Senior']\n",
      " ['38' 'Middle-aged']\n",
      " ['42' 'Middle-aged']\n",
      " ['30' 'Young']\n",
      " ['30' 'Young']]\n"
     ]
    }
   ],
   "source": [
    "print(\"Original Data:\")\n",
    "print(age) \n",
    "print(\"\\nData with Discretized Ages:\")\n",
    "print(data_with_bins[:10])"
   ]
  }
 ],
 "metadata": {
  "kernelspec": {
   "display_name": "Python 3 (ipykernel)",
   "language": "python",
   "name": "python3"
  },
  "language_info": {
   "codemirror_mode": {
    "name": "ipython",
    "version": 3
   },
   "file_extension": ".py",
   "mimetype": "text/x-python",
   "name": "python",
   "nbconvert_exporter": "python",
   "pygments_lexer": "ipython3",
   "version": "3.10.9"
  }
 },
 "nbformat": 4,
 "nbformat_minor": 5
}
